{
 "cells": [
  {
   "cell_type": "markdown",
   "id": "f080dc4f-f55b-439e-9f77-ae61814b07f2",
   "metadata": {},
   "source": [
    "# Preparing for the HELINA Data Science Workshop"
   ]
  },
  {
   "cell_type": "code",
   "execution_count": null,
   "id": "d84e06b4-e745-4807-88fc-f86b6d5d3a80",
   "metadata": {},
   "outputs": [],
   "source": []
  }
 ],
 "metadata": {
  "kernelspec": {
   "display_name": "Python 3 (ipykernel)",
   "language": "python",
   "name": "python3"
  },
  "language_info": {
   "codemirror_mode": {
    "name": "ipython",
    "version": 3
   },
   "file_extension": ".py",
   "mimetype": "text/x-python",
   "name": "python",
   "nbconvert_exporter": "python",
   "pygments_lexer": "ipython3",
   "version": "3.9.4"
  }
 },
 "nbformat": 4,
 "nbformat_minor": 5
}
