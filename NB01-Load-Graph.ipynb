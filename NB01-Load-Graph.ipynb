{
 "cells": [
  {
   "cell_type": "markdown",
   "id": "8e1d6ff0-a0e8-435a-b4c3-365c4358c2b8",
   "metadata": {},
   "source": [
    "# Load OSMNx graph for Kampala"
   ]
  },
  {
   "cell_type": "markdown",
   "id": "83ea751e-e19b-448c-86d6-fae93a618c2a",
   "metadata": {},
   "source": [
    "## Introduction"
   ]
  },
  {
   "cell_type": "markdown",
   "id": "e50832c2-acae-4873-bf0f-162596940be7",
   "metadata": {},
   "source": [
    "### About this case study"
   ]
  },
  {
   "cell_type": "markdown",
   "id": "eacd7f03-6d24-490b-bcea-4f7b035ac459",
   "metadata": {},
   "source": [
    "Caveats:\n",
    "1. The case study uses freely available data (e.g. Open Street Map building footprints). Open source data such as OSM is not necessarily high quality data (e.g., classification of building footprints in a parish may not be complete).\n",
    "2. The algorithms presented in this case study are not necessarily in their most efficient form.\n",
    "3. The case study will not provide answers to all users' questions, especially about OSMNx. Users must do a little bit more digging into the concepts presented to develop a better understanding of concepts being implemented and how these concepts are translated to Python code. This digging includes reading package manuals for GeoPandas, OSMNx, and Shapely and reading Stack Overflow and GIS Stack Exchange entries related to user questions (there's a chance someone asked these questions already).\n",
    "4. The case study provides insights into preparation of street network data and some basic descriptive analyses. More sophisticated analyses and visualizations could be done if data here were combined with other types."
   ]
  },
  {
   "cell_type": "markdown",
   "id": "8b4912b3-e9be-48d3-b34e-9fc6d9e3a470",
   "metadata": {},
   "source": [
    "### About Uganda"
   ]
  },
  {
   "cell_type": "markdown",
   "id": "dfbb9a71-06e1-47f0-99b9-baea257527c3",
   "metadata": {},
   "source": [
    "Uganda profile from the Uganda Bureau of Statistics (UBOS): https://www.ubos.org/uganda-profile/"
   ]
  },
  {
   "cell_type": "markdown",
   "id": "85e9de6d-3d2d-48d5-ace3-83cbb97113f3",
   "metadata": {},
   "source": [
    "### Network graphs"
   ]
  },
  {
   "cell_type": "markdown",
   "id": "cef73525-541c-4228-8543-0ad60970b722",
   "metadata": {},
   "source": [
    "Review network graphs by going through 1854 Cholera Outbreak Advanced 1 notebooks: https://github.com/PHI-Case-Studies/1854-Cholera-Outbreak-London-Advanced-1\n",
    "\n",
    "The figure below is a rendering Kampala streets as a network graph. You can see the Python code to generate this graph in [Notebook Appendix 02](NBXX-Appendix02-Street-Network-Bearings.ipynb).\n",
    "<img src=\"images/kampala-street-network-graph.png\" alt=\"kampala streets\" width=\"600\"/>"
   ]
  },
  {
   "cell_type": "markdown",
   "id": "6d5074a5-5085-494c-81eb-88c845639d08",
   "metadata": {},
   "source": [
    "### Resource stewardship"
   ]
  },
  {
   "cell_type": "markdown",
   "id": "bdb42d8a-aa8b-4305-892b-17b99a3ec487",
   "metadata": {},
   "source": [
    "<img src=\"images/sustainability.png\" alt=\"sustainability\" width=\"600\"/>"
   ]
  },
  {
   "cell_type": "markdown",
   "id": "40010cb6-6431-4a6a-89b9-3c9989cf92fe",
   "metadata": {},
   "source": [
    "While at this workshop you will experience what it means to work with street networks. You will be downloading the street network graph for Kampala, which is about 4-6 GB in size, while working in a shared Jupyter environment with other users. Resources (CPU, RAM and disk space) that enable this Jupyter services are scarce and limited. We should strive to conserve as much of resources by doing the following:\n",
    "1. Keep one notebook open at a time. The notebooks are supposed to be run in sequence. Shut down earlier notebooks in the sequence once you are finished using them. You can close the tab then right-click / shutdown kernel on the filetree to your left. \n",
    "2. This notebook - Notebook 1 - loads 2 graphs (projected and unprojected) but saves these immediately to disk upon opening. When you set `download_graph` to `True` it will use the Overpass API, a \"free\" service, to download the Kampala graphs to your notebook server. If you have the local copy of these graphs in your shared folder, use these copies - copy them to your data folder, and help keep the Overpass API open and readily available for new graph download requests.\n",
    "3. Watch out for memory consumption on the status bar below (where it says `Mem: xx GB`. If you are consuming > 5-6 GB shut down other notebooks so you only have 1 notebook running at a time (see #1)."
   ]
  },
  {
   "cell_type": "markdown",
   "id": "fb2ee777-5d6e-41d8-899a-dfdd23aa8098",
   "metadata": {},
   "source": [
    "## Load OSMNx Graph"
   ]
  },
  {
   "cell_type": "markdown",
   "id": "53035e22-9376-4b12-a14f-93bb0c2bf1d3",
   "metadata": {},
   "source": [
    "### Configure OSMNx"
   ]
  },
  {
   "cell_type": "markdown",
   "id": "8eecd37c-7387-4fda-865d-15404683f90e",
   "metadata": {},
   "source": [
    "To learn more about OSMNx settings see Python code here: https://github.com/gboeing/osmnx/blob/main/osmnx/settings.py"
   ]
  },
  {
   "cell_type": "code",
   "execution_count": 1,
   "id": "c05ddb8d-062e-47cc-b317-47935d744d0c",
   "metadata": {},
   "outputs": [],
   "source": [
    "import osmnx as ox, csv\n",
    "\n",
    "with open('overpass-api.csv', mode='r') as infile:\n",
    "    reader = csv.reader(infile)\n",
    "    overpass_api = {rows[0]:rows[1] for rows in reader}\n",
    "\n",
    "ox.config(\n",
    "    log_console=False, \n",
    "    use_cache=True, \n",
    "    log_file=True,\n",
    "    overpass_endpoint=overpass_api['main'],\n",
    "    overpass_rate_limit=True,\n",
    "    timeout=240\n",
    ")"
   ]
  },
  {
   "cell_type": "markdown",
   "id": "35539fbf-725c-4586-99d4-8af7d3690e00",
   "metadata": {},
   "source": [
    "### Use a Bounding Box"
   ]
  },
  {
   "cell_type": "markdown",
   "id": "af681a65-0a47-4940-9abb-12f16f619f21",
   "metadata": {},
   "source": [
    "As a responsible netizen we will use only the resources we need. In this section, there are two things we will do to be a responsible netizen and:\n",
    "\n",
    "1. We will use a bounding box to limit the size of the graph, and hence the amount of data to request from the Overpass API.\n",
    "2. We will use the saved graph to avoid a trip to the Overpass API. \n",
    "\n",
    "If running the notebooks for the first time, set `download_graphml` to `True`. Loading the graph may take anywhere from 10-15 mins.\n",
    "\n",
    "**Optional:** If you want to track what how your notebook server is interacting with OSMNx and Overpass API, you can launch a terminal (from the JupyterLab Launcher), then do/type the following on the terminal command line:\n",
    "1. `cd notebooks/2021-HELINA-COVID-19-OSMNx-Workshop/logs`\n",
    "2. `ls -la`\n",
    "3. Look for the log file (`.log` extension) for today (log file will have the current date in the file name), copy the filename (highlight with your mouse and `Ctrl-C` to copy).\n",
    "4. Example: `tail -f osmnx_2021-10-17.log` (see sample log screenshot below)\n",
    "\n",
    "\n",
    "<img src=\"images/logs.png\" alt=\"logs\" width=\"800\"/>"
   ]
  },
  {
   "cell_type": "code",
   "execution_count": 2,
   "id": "62f79a7d-3aba-49f0-9389-dfa99ca47100",
   "metadata": {},
   "outputs": [
    {
     "name": "stdout",
     "output_type": "stream",
     "text": [
      "CPU times: user 3min 23s, sys: 3.26 s, total: 3min 26s\n",
      "Wall time: 3min 35s\n"
     ]
    }
   ],
   "source": [
    "%%time\n",
    "\n",
    "# set download_graph to True if running notebook for the first time\n",
    "download_graph = True\n",
    "\n",
    "if download_graph:\n",
    "    G = ox.graph_from_bbox(0.408513, 0.218915, 32.666921, 32.509538, network_type='all', simplify=False)\n",
    "    G_proj = ox.project_graph(G)\n",
    "    G_proj = ox.speed.add_edge_speeds(G_proj, precision=3)\n",
    "    G_proj = ox.speed.add_edge_travel_times(G_proj, precision=3)\n",
    "    G = ox.bearing.add_edge_bearings(G, precision=1)\n",
    "    G = ox.distance.add_edge_lengths(G, precision=3)\n",
    "    ox.save_graphml(G, 'data/g_unprojected.graphml')\n",
    "    ox.save_graphml(G_proj, 'data/g_projected.graphml')\n",
    "else:\n",
    "    G = ox.load_graphml('data/g_unprojected.graphml')\n",
    "    G_proj = ox.load_graphml('data/g_projected.graphml')"
   ]
  },
  {
   "cell_type": "markdown",
   "id": "2fea8910-3e10-4404-a689-910b83869f29",
   "metadata": {},
   "source": [
    "Upon running the notebook for the first time and with `download_graph` set to `True`, we did the following in the preceding code cell:\n",
    "\n",
    "1. We set the value of `download_graph` so we can either download a fresh graph from the Overpass API or reuse an existing saved graph.\n",
    "2. We downloaded the OSMNx graph for Kampala using a bounding box.\n",
    "3. We projected the graph so we can do distance measurements.\n",
    "4. We added some graph features so we can use them later for graph computatation steps (e.g., lengths, speeds, travel time).\n",
    "5. We saved the graph as GraphML so we can reuse the graph later.\n",
    "6. We timed the execution of code for the cell."
   ]
  },
  {
   "cell_type": "markdown",
   "id": "a215a8c5-1e00-4848-be80-2db572c25b8c",
   "metadata": {},
   "source": [
    "OSMNx References:\n",
    "1. https://osmnx.readthedocs.io/en/stable/osmnx.html#osmnx.graph.graph_from_bbox\n",
    "2. https://osmnx.readthedocs.io/en/stable/osmnx.html#osmnx.projection.project_graph\n",
    "3. https://osmnx.readthedocs.io/en/stable/osmnx.html#osmnx.distance.add_edge_lengths\n",
    "4. https://osmnx.readthedocs.io/en/stable/osmnx.html#osmnx.speed.add_edge_speeds\n",
    "5. https://osmnx.readthedocs.io/en/stable/osmnx.html#osmnx.speed.add_edge_travel_times\n",
    "6. https://osmnx.readthedocs.io/en/stable/osmnx.html#osmnx.io.save_graphml\n",
    "7. https://osmnx.readthedocs.io/en/stable/osmnx.html#osmnx.io.load_graphml"
   ]
  },
  {
   "cell_type": "markdown",
   "id": "d5169d07-99ff-419f-98ec-dcfe76c29858",
   "metadata": {},
   "source": [
    "## Graph Projections"
   ]
  },
  {
   "cell_type": "markdown",
   "id": "7010ce0b-459d-42bc-b628-45ae080379a5",
   "metadata": {},
   "source": [
    "Why do we need to think about graph projections?"
   ]
  },
  {
   "cell_type": "code",
   "execution_count": 3,
   "id": "0dca18e4-86e9-4e5d-a991-eda18d3ce316",
   "metadata": {},
   "outputs": [
    {
     "data": {
      "text/plain": [
       "'epsg:4326'"
      ]
     },
     "execution_count": 3,
     "metadata": {},
     "output_type": "execute_result"
    }
   ],
   "source": [
    "g_crs = G.graph['crs']\n",
    "\n",
    "g_crs"
   ]
  },
  {
   "cell_type": "code",
   "execution_count": 4,
   "id": "85f84304-98e7-47ce-9383-630e6676b4ca",
   "metadata": {},
   "outputs": [
    {
     "data": {
      "text/plain": [
       "<Projected CRS: +proj=utm +zone=36 +ellps=WGS84 +datum=WGS84 +unit ...>\n",
       "Name: unknown\n",
       "Axis Info [cartesian]:\n",
       "- E[east]: Easting (metre)\n",
       "- N[north]: Northing (metre)\n",
       "Area of Use:\n",
       "- undefined\n",
       "Coordinate Operation:\n",
       "- name: UTM zone 36N\n",
       "- method: Transverse Mercator\n",
       "Datum: World Geodetic System 1984\n",
       "- Ellipsoid: WGS 84\n",
       "- Prime Meridian: Greenwich"
      ]
     },
     "execution_count": 4,
     "metadata": {},
     "output_type": "execute_result"
    }
   ],
   "source": [
    "g_crs_prj = G_proj.graph['crs']\n",
    "\n",
    "g_crs_prj"
   ]
  },
  {
   "cell_type": "markdown",
   "id": "e77f191f-999e-461a-9093-6d9c8b925c3f",
   "metadata": {},
   "source": [
    "In the code cells above we obtained the CRS values of the two graphs. What do you notice that's different about the two CRS values?"
   ]
  },
  {
   "cell_type": "markdown",
   "id": "8cf29749-bc66-4b90-ba0c-57b3b47acf3d",
   "metadata": {},
   "source": [
    "### Obtain EPSG code for the projected graph"
   ]
  },
  {
   "cell_type": "markdown",
   "id": "0dfd7689-464a-44c4-9831-3848a43d1e96",
   "metadata": {},
   "source": [
    "What is EPSG?\n",
    "\n",
    "The projected graph and geodataframes we will create for residence centroids and testing facilities have to use the same planar projection. We obtain the projected graph's CRS below and obtain the corresponding EPSG authority code for use in Notebooks 2 and 3."
   ]
  },
  {
   "cell_type": "code",
   "execution_count": 6,
   "id": "efb4b7b3-e910-4803-940f-fb4145d88e6e",
   "metadata": {},
   "outputs": [
    {
     "name": "stdout",
     "output_type": "stream",
     "text": [
      "{'EPSG': '32636'}\n"
     ]
    }
   ],
   "source": [
    "from pyproj import CRS\n",
    "import yaml, os\n",
    "\n",
    "auth, crs = CRS.from_string(str(g_crs_prj)).to_authority()\n",
    "crs_dict = {auth:crs}\n",
    "\n",
    "print(crs_dict)\n",
    "\n",
    "with open('proj_crs.yml', 'w') as outfile:\n",
    "    yaml.dump(crs_dict, outfile, default_flow_style=False)"
   ]
  },
  {
   "cell_type": "code",
   "execution_count": 7,
   "id": "197ed963-f552-447c-bb89-981957cd5fd7",
   "metadata": {},
   "outputs": [
    {
     "data": {
      "text/plain": [
       "'EPSG:32636'"
      ]
     },
     "execution_count": 7,
     "metadata": {},
     "output_type": "execute_result"
    }
   ],
   "source": [
    "with open(\"proj_crs.yml\", \"r\") as stream:\n",
    "    try:\n",
    "        epsg_dict = yaml.safe_load(stream)\n",
    "    except yaml.YAMLError as exc:\n",
    "        print(exc)\n",
    "        \n",
    "proj_epsg_str = str(epsg_dict).replace(\"{\",\"\").replace(\"}\", \"\").replace(\"'\",\"\").replace(\" \",\"\")\n",
    "\n",
    "proj_epsg_str"
   ]
  },
  {
   "cell_type": "markdown",
   "id": "685f33ab-21f9-4700-aea0-a6fbce1f0f23",
   "metadata": {},
   "source": [
    "Reference for 32636: https://epsg.io/32636"
   ]
  },
  {
   "cell_type": "markdown",
   "id": "cb6d8929-2253-4be0-8925-147629992dad",
   "metadata": {},
   "source": [
    "## Graph Statistics"
   ]
  },
  {
   "cell_type": "code",
   "execution_count": 8,
   "id": "7729ffd2-6849-41d6-b386-25bcd7c9b1bc",
   "metadata": {
    "tags": []
   },
   "outputs": [
    {
     "name": "stdout",
     "output_type": "stream",
     "text": [
      "CPU times: user 1min 8s, sys: 852 ms, total: 1min 8s\n",
      "Wall time: 1min 9s\n"
     ]
    },
    {
     "data": {
      "text/plain": [
       "{'n': 215155,\n",
       " 'm': 438666,\n",
       " 'k_avg': 4.0776742348539425,\n",
       " 'edge_length_total': 8418971.223000055,\n",
       " 'edge_length_avg': 19.192212806554544,\n",
       " 'streets_per_node_avg': 2.070772233970858,\n",
       " 'streets_per_node_counts': {0: 0,\n",
       "  1: 16000,\n",
       "  2: 169736,\n",
       "  3: 27633,\n",
       "  4: 1767,\n",
       "  5: 16,\n",
       "  6: 3},\n",
       " 'streets_per_node_proportions': {0: 0.0,\n",
       "  1: 0.07436499267969603,\n",
       "  2: 0.7889010248425554,\n",
       "  3: 0.12843299016987753,\n",
       "  4: 0.008212683879063931,\n",
       "  5: 7.436499267969603e-05,\n",
       "  6: 1.3943436127443006e-05},\n",
       " 'intersection_count': 199155,\n",
       " 'street_length_total': 4295979.737999882,\n",
       " 'street_segment_count': 222636,\n",
       " 'street_length_avg': 19.29597970678543,\n",
       " 'circuity_avg': 1.0000000323274705,\n",
       " 'self_loop_proportion': 0.0}"
      ]
     },
     "execution_count": 8,
     "metadata": {},
     "output_type": "execute_result"
    }
   ],
   "source": [
    "%%time\n",
    "G_stats_dict = ox.stats.basic_stats(G, area=None, clean_int_tol=None, clean_intersects=None, tolerance=None, circuity_dist=None)\n",
    "\n",
    "G_stats_dict"
   ]
  },
  {
   "cell_type": "code",
   "execution_count": 9,
   "id": "393396b0-0bff-4493-899f-17d776ae6834",
   "metadata": {},
   "outputs": [
    {
     "name": "stdout",
     "output_type": "stream",
     "text": [
      "CPU times: user 1min 7s, sys: 782 ms, total: 1min 7s\n",
      "Wall time: 1min 7s\n"
     ]
    },
    {
     "data": {
      "text/plain": [
       "{'n': 215155,\n",
       " 'm': 438666,\n",
       " 'k_avg': 4.0776742348539425,\n",
       " 'edge_length_total': 8418971.223000074,\n",
       " 'edge_length_avg': 19.192212806554586,\n",
       " 'streets_per_node_avg': 2.070772233970858,\n",
       " 'streets_per_node_counts': {0: 0,\n",
       "  1: 16000,\n",
       "  2: 169736,\n",
       "  3: 27633,\n",
       "  4: 1767,\n",
       "  5: 16,\n",
       "  6: 3},\n",
       " 'streets_per_node_proportions': {0: 0.0,\n",
       "  1: 0.07436499267969603,\n",
       "  2: 0.7889010248425554,\n",
       "  3: 0.12843299016987753,\n",
       "  4: 0.008212683879063931,\n",
       "  5: 7.436499267969603e-05,\n",
       "  6: 1.3943436127443006e-05},\n",
       " 'intersection_count': 199155,\n",
       " 'street_length_total': 4295979.73799994,\n",
       " 'street_segment_count': 222636,\n",
       " 'street_length_avg': 19.295979706785698,\n",
       " 'circuity_avg': 1.0025696079435533,\n",
       " 'self_loop_proportion': 0.0}"
      ]
     },
     "execution_count": 9,
     "metadata": {},
     "output_type": "execute_result"
    }
   ],
   "source": [
    "%%time\n",
    "G_proj_stats_dict = ox.stats.basic_stats(G_proj, area=None, clean_int_tol=None, clean_intersects=None, tolerance=None, circuity_dist=None)\n",
    "\n",
    "G_proj_stats_dict"
   ]
  },
  {
   "cell_type": "markdown",
   "id": "d208ac27-29ce-4d02-a6e3-236f7c9cd354",
   "metadata": {},
   "source": [
    "## Data Directory"
   ]
  },
  {
   "cell_type": "code",
   "execution_count": 10,
   "id": "5f48a95b-660e-40fb-b9d8-dfe1e1acc84f",
   "metadata": {},
   "outputs": [
    {
     "name": "stdout",
     "output_type": "stream",
     "text": [
      "total 866280\n",
      "drwxr-xr-x  19 hermantolentino  staff        608 Nov 16 00:21 \u001b[34m.\u001b[m\u001b[m\n",
      "drwxr-xr-x  25 hermantolentino  staff        800 Nov 20 22:34 \u001b[34m..\u001b[m\u001b[m\n",
      "-rw-r--r--   1 hermantolentino  staff       3049 Nov  3 22:52 covid-testing-facilities.csv\n",
      "-rw-r--r--   1 hermantolentino  staff      98304 Nov  9 22:22 filtered_testing_sites_4326_gdf.gpkg\n",
      "-rw-r--r--   1 hermantolentino  staff   28372992 Nov 16 00:18 footprints_gdf.gpkg\n",
      "-rw-r--r--   1 hermantolentino  staff  163409935 Nov 20 22:34 g_projected.graphml\n",
      "-rw-r--r--   1 hermantolentino  staff  130563073 Nov 20 22:33 g_unprojected.graphml\n",
      "-rw-r--r--   1 hermantolentino  staff   56545280 May  6  2018 gadm36_UGA.gpkg\n",
      "-rw-r--r--   1 hermantolentino  staff   22299440 May  6  2018 gadm_gpkg.zip\n",
      "-rw-r--r--   1 hermantolentino  staff        300 May  6  2018 license.txt\n",
      "-rw-r--r--   1 hermantolentino  staff     292227 Nov  9 22:25 paired_cache_df.pickle\n",
      "-rw-r--r--   1 hermantolentino  staff      41698 Nov  9 22:25 paired_df.pickle\n",
      "-rw-r--r--   1 hermantolentino  staff     480318 Nov  3 22:52 parish-centroids-to-covid-testing-facility-pairs.csv\n",
      "-rw-r--r--   1 hermantolentino  staff       7438 Nov  3 22:52 parish-centroids.csv\n",
      "-rw-r--r--   1 hermantolentino  staff      98304 Nov 16 00:21 parish_gdf.gpkg\n",
      "-rw-r--r--   1 hermantolentino  staff     233472 Nov 16 00:21 parishes_gdf.gpkg\n",
      "-rw-r--r--   1 hermantolentino  staff     851968 Nov 16 00:20 residential_centroids_4326_gdf.gpkg\n",
      "-rw-r--r--   1 hermantolentino  staff    2703360 Nov 16 00:20 residential_centroids_cache_gdf.gpkg\n",
      "-rw-r--r--   1 hermantolentino  staff   29491200 Nov 16 00:21 uganda_gdf.gpkg\n"
     ]
    }
   ],
   "source": [
    "!ls -la data"
   ]
  },
  {
   "cell_type": "markdown",
   "id": "f38d38fc-f889-49d5-b09e-665714e85348",
   "metadata": {},
   "source": [
    "## Further Reading"
   ]
  },
  {
   "cell_type": "markdown",
   "id": "07ad8729-c096-400c-b77e-8ea8bc22a1bf",
   "metadata": {},
   "source": [
    "1. Notebook Shortcuts: https://towardsdatascience.com/jypyter-notebook-shortcuts-bf0101a98330\n",
    "2. OSMNx Graph Statistics: https://osmnx.readthedocs.io/en/stable/internals.html?highlight=plot#osmnx-stats-module\n",
    "3. 1854 Cholera Outbreak Advanced 1 GitHub repository: https://github.com/PHI-Case-Studies/1854-Cholera-Outbreak-London-Advanced-1"
   ]
  },
  {
   "cell_type": "code",
   "execution_count": null,
   "id": "0ac6ed8a-e45b-450d-8702-81aaa044fdfc",
   "metadata": {},
   "outputs": [],
   "source": []
  }
 ],
 "metadata": {
  "kernelspec": {
   "display_name": "OSMNx Python3",
   "language": "python",
   "name": "osmnx-python3"
  },
  "language_info": {
   "codemirror_mode": {
    "name": "ipython",
    "version": 3
   },
   "file_extension": ".py",
   "mimetype": "text/x-python",
   "name": "python",
   "nbconvert_exporter": "python",
   "pygments_lexer": "ipython3",
   "version": "3.8.12"
  }
 },
 "nbformat": 4,
 "nbformat_minor": 5
}
