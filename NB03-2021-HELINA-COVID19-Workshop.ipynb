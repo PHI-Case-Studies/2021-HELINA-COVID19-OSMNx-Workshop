{
 "cells": [
  {
   "cell_type": "code",
   "execution_count": 2,
   "id": "aa9a9b83-b579-476c-bf85-0a255c7cb6e7",
   "metadata": {},
   "outputs": [
    {
     "data": {
      "text/plain": [
       "'1.1.1'"
      ]
     },
     "execution_count": 2,
     "metadata": {},
     "output_type": "execute_result"
    }
   ],
   "source": [
    "import osmnx as ox\n",
    "\n",
    "ox.__version__"
   ]
  },
  {
   "cell_type": "code",
   "execution_count": 3,
   "id": "92e8cf03-a0f6-4682-b556-0060dab71759",
   "metadata": {
    "tags": []
   },
   "outputs": [],
   "source": [
    "gml_unprojected = ox.load_graphml('data/g_unprojected.graphml')\n",
    "gml_projected = ox.load_graphml('data/g_projected.graphml')"
   ]
  },
  {
   "cell_type": "code",
   "execution_count": 4,
   "id": "acda2ddf-7bca-4c4d-ac23-802c1fc35eae",
   "metadata": {
    "tags": []
   },
   "outputs": [
    {
     "data": {
      "text/plain": [
       "{'n': 40506,\n",
       " 'm': 91267,\n",
       " 'k_avg': 4.506344739051005,\n",
       " 'edge_length_total': 7884656.878000098,\n",
       " 'edge_length_avg': 86.39110388201757,\n",
       " 'streets_per_node_avg': 2.304769663753518,\n",
       " 'streets_per_node_counts': {0: 0,\n",
       "  1: 14738,\n",
       "  2: 13,\n",
       "  3: 24436,\n",
       "  4: 1312,\n",
       "  5: 5,\n",
       "  6: 2},\n",
       " 'streets_per_node_proportions': {0: 0.0,\n",
       "  1: 0.3638473312595665,\n",
       "  2: 0.0003209401076383746,\n",
       "  3: 0.6032686515577939,\n",
       "  4: 0.032390263170888264,\n",
       "  5: 0.00012343850293783636,\n",
       "  6: 4.937540117513455e-05},\n",
       " 'intersection_count': 25768,\n",
       " 'street_length_total': 4021702.818000004,\n",
       " 'street_segment_count': 46574,\n",
       " 'street_length_avg': 86.35081414523134,\n",
       " 'circuity_avg': 1.069126952873804,\n",
       " 'self_loop_proportion': 0.0016103405333447846}"
      ]
     },
     "execution_count": 4,
     "metadata": {},
     "output_type": "execute_result"
    }
   ],
   "source": [
    "gml_unprojected_stats_dict = ox.stats.basic_stats(gml_unprojected, area=None, clean_int_tol=None, clean_intersects=None, tolerance=None, circuity_dist=None)\n",
    "\n",
    "gml_unprojected_stats_dict"
   ]
  },
  {
   "cell_type": "code",
   "execution_count": 5,
   "id": "9612b8d7-8830-4923-9a0a-c61d0d98f91d",
   "metadata": {
    "tags": []
   },
   "outputs": [
    {
     "data": {
      "text/plain": [
       "{'n': 40506,\n",
       " 'm': 91267,\n",
       " 'k_avg': 4.506344739051005,\n",
       " 'edge_length_total': 7884656.878000081,\n",
       " 'edge_length_avg': 86.39110388201739,\n",
       " 'streets_per_node_avg': 2.304769663753518,\n",
       " 'streets_per_node_counts': {0: 0,\n",
       "  1: 14738,\n",
       "  2: 13,\n",
       "  3: 24436,\n",
       "  4: 1312,\n",
       "  5: 5,\n",
       "  6: 2},\n",
       " 'streets_per_node_proportions': {0: 0.0,\n",
       "  1: 0.3638473312595665,\n",
       "  2: 0.0003209401076383746,\n",
       "  3: 0.6032686515577939,\n",
       "  4: 0.032390263170888264,\n",
       "  5: 0.00012343850293783636,\n",
       "  6: 4.937540117513455e-05},\n",
       " 'intersection_count': 25768,\n",
       " 'street_length_total': 4021702.81800002,\n",
       " 'street_segment_count': 46574,\n",
       " 'street_length_avg': 86.35081414523168,\n",
       " 'circuity_avg': 1.0718553071696748,\n",
       " 'self_loop_proportion': 0.0016103405333447846}"
      ]
     },
     "execution_count": 5,
     "metadata": {},
     "output_type": "execute_result"
    }
   ],
   "source": [
    "gml_projected_stats_dict = ox.stats.basic_stats(gml_projected, area=None, clean_int_tol=None, clean_intersects=None, tolerance=None, circuity_dist=None)\n",
    "\n",
    "gml_projected_stats_dict"
   ]
  },
  {
   "cell_type": "markdown",
   "id": "ae4b6458-7008-417e-a97c-f64030e5798d",
   "metadata": {},
   "source": [
    "### References:\n",
    "\n",
    "1. Load GraphML file: https://osmnx.readthedocs.io/en/stable/osmnx.html?highlight=load_graphml#osmnx.io.load_graphml\n",
    "2. Basic Stats: https://osmnx.readthedocs.io/en/stable/osmnx.html#osmnx.stats.basic_stats"
   ]
  },
  {
   "cell_type": "markdown",
   "id": "c1526be1-06a6-4c30-be62-30a930304233",
   "metadata": {},
   "source": [
    "## Projections - Why are they important?"
   ]
  },
  {
   "cell_type": "code",
   "execution_count": null,
   "id": "f40d410c-2cd8-4d44-8fb9-d3d445ca09d8",
   "metadata": {
    "tags": []
   },
   "outputs": [],
   "source": []
  }
 ],
 "metadata": {
  "kernelspec": {
   "display_name": "Python 3 (ipykernel)",
   "language": "python",
   "name": "python3"
  },
  "language_info": {
   "codemirror_mode": {
    "name": "ipython",
    "version": 3
   },
   "file_extension": ".py",
   "mimetype": "text/x-python",
   "name": "python",
   "nbconvert_exporter": "python",
   "pygments_lexer": "ipython3",
   "version": "3.9.4"
  }
 },
 "nbformat": 4,
 "nbformat_minor": 5
}
