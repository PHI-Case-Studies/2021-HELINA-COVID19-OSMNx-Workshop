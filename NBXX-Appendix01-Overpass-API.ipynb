{
 "cells": [
  {
   "cell_type": "markdown",
   "id": "cff398bc-890e-4c26-97dd-27a3a79353e2",
   "metadata": {},
   "source": [
    "# Overpass API"
   ]
  },
  {
   "cell_type": "code",
   "execution_count": 1,
   "id": "316fe115-3ef2-483e-8cd1-d25822c6df4b",
   "metadata": {},
   "outputs": [],
   "source": [
    "import osmnx as ox"
   ]
  },
  {
   "cell_type": "code",
   "execution_count": 2,
   "id": "2621dfd9-b9eb-430e-bb42-11ee97f0c6c9",
   "metadata": {},
   "outputs": [
    {
     "data": {
      "text/plain": [
       "{'local': 'http://172.18.0.7:8088/api',\n",
       " 'main': 'https://overpass-api.de/api',\n",
       " 'kumi': 'https://overpass.kumi.systems/api'}"
      ]
     },
     "execution_count": 2,
     "metadata": {},
     "output_type": "execute_result"
    }
   ],
   "source": [
    "import csv\n",
    "\n",
    "with open('overpass-api.csv', mode='r') as infile:\n",
    "    reader = csv.reader(infile)\n",
    "    endpoint = {rows[0]:rows[1] for rows in reader}\n",
    "endpoint"
   ]
  },
  {
   "cell_type": "code",
   "execution_count": 3,
   "id": "902deeb9-0c20-4898-9b9e-abaa16a2c093",
   "metadata": {},
   "outputs": [],
   "source": [
    "ox.config(\n",
    "    log_console=True, \n",
    "    use_cache=True, \n",
    "    log_file=True, \n",
    "    overpass_endpoint=endpoint['main'])"
   ]
  },
  {
   "cell_type": "markdown",
   "id": "ffd1eaaa-f549-469a-862e-bbf326f8fe69",
   "metadata": {},
   "source": [
    "More on `osmnx.config` here: https://osmnx.readthedocs.io/en/stable/osmnx.html#osmnx.utils.config"
   ]
  },
  {
   "cell_type": "code",
   "execution_count": 4,
   "id": "e8f24b6c-08d3-4379-8e50-beef201c0b01",
   "metadata": {
    "scrolled": true,
    "tags": []
   },
   "outputs": [],
   "source": [
    "download_graphml = True\n",
    "\n",
    "if download_graphml:\n",
    "    G = ox.graph_from_bbox(0.408513, 0.218915, 32.666921, 32.509538, network_type='all')\n",
    "else:\n",
    "    G = ox.load_graphml('data/g_unprojected.graphml')"
   ]
  },
  {
   "cell_type": "code",
   "execution_count": 5,
   "id": "39e605af-69f4-4309-8c2c-e6b6e8255929",
   "metadata": {},
   "outputs": [],
   "source": [
    "import overpass"
   ]
  },
  {
   "cell_type": "code",
   "execution_count": 6,
   "id": "f4cbeea4-fec4-459c-b88b-769cad583cb3",
   "metadata": {},
   "outputs": [],
   "source": [
    "api = overpass.API(endpoint['main']+'interpreter')"
   ]
  },
  {
   "cell_type": "code",
   "execution_count": 7,
   "id": "35031e17-2405-4f26-bddf-5565d557fa16",
   "metadata": {},
   "outputs": [],
   "source": [
    "response = api.get('node[\"name\"=\"Salt Lake City\"]')"
   ]
  },
  {
   "cell_type": "code",
   "execution_count": 8,
   "id": "e306c04c-3797-4697-af0a-a1047e16714d",
   "metadata": {},
   "outputs": [
    {
     "data": {
      "text/plain": [
       "{\"features\": [{\"geometry\": {\"coordinates\": [-111.886798, 40.75962], \"type\": \"Point\"}, \"id\": 150935219, \"properties\": {\"capital\": \"4\", \"census:population\": \"186440;2010\", \"ele\": \"1288\", \"gnis:County\": \"Salt Lake\", \"gnis:County_num\": \"035\", \"gnis:ST_alpha\": \"UT\", \"gnis:ST_num\": \"49\", \"gnis:id\": \"1454997\", \"import_uuid\": \"bb7269ee-502a-5391-8056-e3ce0e66489c\", \"name\": \"Salt Lake City\", \"name:en\": \"Salt Lake City\", \"name:lt\": \"Solt Leik Sitis\", \"name:pl\": \"Salt Lake City\", \"name:ru\": \"\\u0421\\u043e\\u043b\\u0442-\\u041b\\u0435\\u0439\\u043a-\\u0421\\u0438\\u0442\\u0438\", \"name:ta\": \"\\u0b9a\\u0bbe\\u0bb2\\u0bcd\\u0b9f\\u0bcd \\u0bb2\\u0bc7\\u0b95\\u0bcd \\u0ba8\\u0b95\\u0bb0\\u0bae\\u0bcd\", \"name:uk\": \"\\u0421\\u043e\\u043b\\u0442-\\u041b\\u0435\\u0439\\u043a-\\u0421\\u0456\\u0442\\u0456\", \"name:zh\": \"\\u9e7d\\u6e56\\u57ce/ \\u76d0\\u6e56\\u57ce\", \"name:zh-Hans\": \"\\u76d0\\u6e56\\u57ce\", \"place\": \"city\", \"population\": \"200591\", \"population:date\": \"2018\", \"source:population\": \"wikipedia\", \"state_capital\": \"yes\", \"wikidata\": \"Q23337\", \"wikipedia\": \"en:Salt Lake City\"}, \"type\": \"Feature\"}, {\"geometry\": {\"coordinates\": [-111.89, 40.761], \"type\": \"Point\"}, \"id\": 585370637, \"properties\": {\"landuse\": \"quarry\", \"man_made\": \"mine\", \"name\": \"Salt Lake City\", \"note\": \"Record <a href=\\\"http://tin.er.usgs.gov/mineplant/show.php?labno=3148\\\">3148</a> of the <a href=\\\"http://tin.er.usgs.gov/mineplant/\\\">Active mines and mineral plants in the US</a>\"}, \"type\": \"Feature\"}, {\"geometry\": {\"coordinates\": [-111.908884, 40.760827], \"type\": \"Point\"}, \"id\": 2601139992, \"properties\": {\"alt_name\": \"Salt Lake City Intermodal Hub\", \"name\": \"Salt Lake City\", \"network\": \"Amtrak\", \"public_transport\": \"stop_position\", \"railway\": \"stop\", \"railway:ref\": \"SLC\", \"train\": \"yes\"}, \"type\": \"Feature\"}, {\"geometry\": {\"coordinates\": [-111.908796, 40.760847], \"type\": \"Point\"}, \"id\": 2601139995, \"properties\": {\"alt_name\": \"Salt Lake City Intermodal Hub\", \"name\": \"Salt Lake City\", \"network\": \"Amtrak\", \"public_transport\": \"stop_position\", \"railway\": \"stop\", \"railway:ref\": \"SLC\", \"train\": \"yes\"}, \"type\": \"Feature\"}], \"type\": \"FeatureCollection\"}"
      ]
     },
     "execution_count": 8,
     "metadata": {},
     "output_type": "execute_result"
    }
   ],
   "source": [
    "response"
   ]
  },
  {
   "cell_type": "code",
   "execution_count": null,
   "id": "2e681f44-641f-44e5-88b0-fb05e9add4c9",
   "metadata": {},
   "outputs": [],
   "source": []
  }
 ],
 "metadata": {
  "kernelspec": {
   "display_name": "Python 3 (ipykernel)",
   "language": "python",
   "name": "python3"
  },
  "language_info": {
   "codemirror_mode": {
    "name": "ipython",
    "version": 3
   },
   "file_extension": ".py",
   "mimetype": "text/x-python",
   "name": "python",
   "nbconvert_exporter": "python",
   "pygments_lexer": "ipython3",
   "version": "3.9.4"
  }
 },
 "nbformat": 4,
 "nbformat_minor": 5
}
