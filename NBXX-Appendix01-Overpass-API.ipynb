{
 "cells": [
  {
   "cell_type": "markdown",
   "id": "cff398bc-890e-4c26-97dd-27a3a79353e2",
   "metadata": {},
   "source": [
    "# Overpass API"
   ]
  },
  {
   "cell_type": "code",
   "execution_count": 2,
   "id": "316fe115-3ef2-483e-8cd1-d25822c6df4b",
   "metadata": {},
   "outputs": [],
   "source": [
    "import osmnx as ox"
   ]
  },
  {
   "cell_type": "code",
   "execution_count": 3,
   "id": "2621dfd9-b9eb-430e-bb42-11ee97f0c6c9",
   "metadata": {},
   "outputs": [
    {
     "data": {
      "text/plain": [
       "{'local': 'http://172.18.0.7:8088/api',\n",
       " 'main': 'https://overpass-api.de/api/interpreter',\n",
       " 'kumi': 'https://overpass.kumi.systems/api'}"
      ]
     },
     "execution_count": 3,
     "metadata": {},
     "output_type": "execute_result"
    }
   ],
   "source": [
    "import csv\n",
    "\n",
    "with open('overpass-api.csv', mode='r') as infile:\n",
    "    reader = csv.reader(infile)\n",
    "    endpoint = {rows[0]:rows[1] for rows in reader}\n",
    "endpoint"
   ]
  },
  {
   "cell_type": "code",
   "execution_count": 4,
   "id": "902deeb9-0c20-4898-9b9e-abaa16a2c093",
   "metadata": {},
   "outputs": [
    {
     "name": "stdout",
     "output_type": "stream",
     "text": [
      "2022-01-30 12:35:18 Configured OSMnx 1.1.2\n",
      "2022-01-30 12:35:18 HTTP response caching is on\n"
     ]
    }
   ],
   "source": [
    "ox.config(\n",
    "    log_console=True, \n",
    "    use_cache=True, \n",
    "    log_file=True, \n",
    "    overpass_endpoint=endpoint['main'])"
   ]
  },
  {
   "cell_type": "markdown",
   "id": "ffd1eaaa-f549-469a-862e-bbf326f8fe69",
   "metadata": {},
   "source": [
    "More on `osmnx.config` here: https://osmnx.readthedocs.io/en/stable/osmnx.html#osmnx.utils.config"
   ]
  },
  {
   "cell_type": "code",
   "execution_count": 5,
   "id": "e8f24b6c-08d3-4379-8e50-beef201c0b01",
   "metadata": {
    "tags": []
   },
   "outputs": [
    {
     "name": "stdout",
     "output_type": "stream",
     "text": [
      "2022-01-30 12:35:25 Projected GeoDataFrame to +proj=utm +zone=36 +ellps=WGS84 +datum=WGS84 +units=m +no_defs +type=crs\n",
      "2022-01-30 12:35:25 Projected GeoDataFrame to epsg:4326\n",
      "2022-01-30 12:35:25 Projected GeoDataFrame to +proj=utm +zone=36 +ellps=WGS84 +datum=WGS84 +units=m +no_defs +type=crs\n",
      "2022-01-30 12:35:25 Projected GeoDataFrame to epsg:4326\n",
      "2022-01-30 12:35:25 Requesting data within polygon from API in 1 request(s)\n",
      "2022-01-30 12:35:25 Retrieved response from cache file \"cache/c33fe93b59b1cc53d0a1edfe30db7b47ea795b7b.json\"\n",
      "2022-01-30 12:35:25 Got all network data within polygon from API in 1 request(s)\n",
      "2022-01-30 12:35:25 Creating graph from downloaded OSM data...\n",
      "2022-01-30 12:35:29 Created graph with 239808 nodes and 487288 edges\n",
      "2022-01-30 12:35:32 Added length attributes to graph edges\n",
      "2022-01-30 12:35:32 Identifying all nodes that lie outside the polygon...\n",
      "2022-01-30 12:35:40 Created nodes GeoDataFrame from graph\n",
      "2022-01-30 12:35:45 Created r-tree spatial index for 239808 geometries\n",
      "2022-01-30 12:35:47 Identified 234551 geometries inside polygon\n",
      "2022-01-30 12:35:50 Removed 5257 nodes outside polygon\n",
      "2022-01-30 12:35:50 Truncated graph by polygon\n",
      "2022-01-30 12:35:51 Begin topologically simplifying the graph...\n",
      "2022-01-30 12:35:56 Identified 50047 edge endpoints\n",
      "2022-01-30 12:36:12 Simplified graph: 234551 to 50047 nodes, 476695 to 112472 edges\n",
      "2022-01-30 12:36:12 Identifying all nodes that lie outside the polygon...\n",
      "2022-01-30 12:36:13 Created nodes GeoDataFrame from graph\n",
      "2022-01-30 12:36:14 Created r-tree spatial index for 50047 geometries\n",
      "2022-01-30 12:36:14 Identified 47181 geometries inside polygon\n",
      "2022-01-30 12:36:15 Removed 2866 nodes outside polygon\n",
      "2022-01-30 12:36:16 Removed 48 isolated nodes\n",
      "2022-01-30 12:36:18 Got largest weakly connected component (45452 of 47133 total nodes)\n",
      "2022-01-30 12:36:18 Truncated graph by polygon\n",
      "2022-01-30 12:36:19 Counted undirected street segments incident on each node\n",
      "2022-01-30 12:36:19 graph_from_polygon returned graph with 45452 nodes and 103744 edges\n",
      "2022-01-30 12:36:19 graph_from_bbox returned graph with 45452 nodes and 103744 edges\n"
     ]
    }
   ],
   "source": [
    "download_graphml = True\n",
    "\n",
    "if download_graphml:\n",
    "    G = ox.graph_from_bbox(0.408513, 0.218915, 32.666921, 32.509538, network_type='all')\n",
    "else:\n",
    "    if 'G' not in globals():\n",
    "        # Load unprojected graph, G\n",
    "        g_unprojected_nodes = gpd.read_feather('data/g_unprojected_nodes.feather')\n",
    "        g_unprojected_edges = gpd.read_feather('data/g_unprojected_edges.feather')\n",
    "        G = ox.utils_graph.graph_from_gdfs(g_unprojected_nodes, g_unprojected_edges)"
   ]
  },
  {
   "cell_type": "code",
   "execution_count": null,
   "id": "2e681f44-641f-44e5-88b0-fb05e9add4c9",
   "metadata": {},
   "outputs": [],
   "source": []
  }
 ],
 "metadata": {
  "kernelspec": {
   "display_name": "OSMNx Python3",
   "language": "python",
   "name": "osmnx_py3"
  },
  "language_info": {
   "codemirror_mode": {
    "name": "ipython",
    "version": 3
   },
   "file_extension": ".py",
   "mimetype": "text/x-python",
   "name": "python",
   "nbconvert_exporter": "python",
   "pygments_lexer": "ipython3",
   "version": "3.9.10"
  }
 },
 "nbformat": 4,
 "nbformat_minor": 5
}
