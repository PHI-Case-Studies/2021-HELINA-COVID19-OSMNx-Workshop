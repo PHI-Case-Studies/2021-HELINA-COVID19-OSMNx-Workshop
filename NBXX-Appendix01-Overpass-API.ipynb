{
 "cells": [
  {
   "cell_type": "markdown",
   "id": "cff398bc-890e-4c26-97dd-27a3a79353e2",
   "metadata": {},
   "source": [
    "# Overpass API"
   ]
  },
  {
   "cell_type": "code",
   "execution_count": 3,
   "id": "316fe115-3ef2-483e-8cd1-d25822c6df4b",
   "metadata": {},
   "outputs": [],
   "source": [
    "import osmnx as ox"
   ]
  },
  {
   "cell_type": "code",
   "execution_count": 4,
   "id": "2621dfd9-b9eb-430e-bb42-11ee97f0c6c9",
   "metadata": {},
   "outputs": [
    {
     "data": {
      "text/plain": [
       "{'local': 'http://172.18.0.7:8088/api',\n",
       " 'main': 'https://overpass-api.de/api/interpreter',\n",
       " 'kumi': 'https://overpass.kumi.systems/api'}"
      ]
     },
     "execution_count": 4,
     "metadata": {},
     "output_type": "execute_result"
    }
   ],
   "source": [
    "import csv\n",
    "\n",
    "with open('overpass-api.csv', mode='r') as infile:\n",
    "    reader = csv.reader(infile)\n",
    "    endpoint = {rows[0]:rows[1] for rows in reader}\n",
    "endpoint"
   ]
  },
  {
   "cell_type": "code",
   "execution_count": 5,
   "id": "902deeb9-0c20-4898-9b9e-abaa16a2c093",
   "metadata": {},
   "outputs": [],
   "source": [
    "ox.settings.log_console=True \n",
    "ox.settings.use_cache=True \n",
    "ox.settings.log_file=True \n",
    "ox.settings.overpass_endpoint=endpoint['main']"
   ]
  },
  {
   "cell_type": "markdown",
   "id": "ffd1eaaa-f549-469a-862e-bbf326f8fe69",
   "metadata": {},
   "source": [
    "More on `osmnx.config` here: https://osmnx.readthedocs.io/en/stable/osmnx.html#osmnx.utils.config"
   ]
  },
  {
   "cell_type": "code",
   "execution_count": 6,
   "id": "e8f24b6c-08d3-4379-8e50-beef201c0b01",
   "metadata": {
    "tags": []
   },
   "outputs": [],
   "source": [
    "download_graphml = True\n",
    "\n",
    "if download_graphml:\n",
    "    G = ox.graph_from_bbox(0.408513, 0.218915, 32.666921, 32.509538, network_type='all')\n",
    "else:\n",
    "    if 'G' not in globals():\n",
    "        # Load unprojected graph, G\n",
    "        g_unprojected_nodes = gpd.read_feather('data/g_unprojected_nodes.feather')\n",
    "        g_unprojected_edges = gpd.read_feather('data/g_unprojected_edges.feather')\n",
    "        G = ox.utils_graph.graph_from_gdfs(g_unprojected_nodes, g_unprojected_edges)"
   ]
  },
  {
   "cell_type": "code",
   "execution_count": null,
   "id": "2e681f44-641f-44e5-88b0-fb05e9add4c9",
   "metadata": {},
   "outputs": [],
   "source": []
  }
 ],
 "metadata": {
  "kernelspec": {
   "display_name": "OSMNx Python3",
   "language": "python",
   "name": "osmnx_py3"
  },
  "language_info": {
   "codemirror_mode": {
    "name": "ipython",
    "version": 3
   },
   "file_extension": ".py",
   "mimetype": "text/x-python",
   "name": "python",
   "nbconvert_exporter": "python",
   "pygments_lexer": "ipython3",
   "version": "3.10.4"
  }
 },
 "nbformat": 4,
 "nbformat_minor": 5
}
